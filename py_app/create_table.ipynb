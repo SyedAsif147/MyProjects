{
 "cells": [
  {
   "cell_type": "code",
   "execution_count": 27,
   "metadata": {},
   "outputs": [],
   "source": [
    "import psycopg2\n",
    "from ipynb.fs.full.config1 import config"
   ]
  },
  {
   "cell_type": "code",
   "execution_count": 28,
   "metadata": {},
   "outputs": [
    {
     "name": "stdout",
     "output_type": "stream",
     "text": [
      "Connection Closed\n"
     ]
    }
   ],
   "source": [
    "def create_tables():\n",
    "    \"\"\" create tables in the PostgreSQL database\"\"\"\n",
    "    commands = (\n",
    "        \"\"\"CREATE TABLE patients(\n",
    "                patient_id SERIAL PRIMARY KEY,\n",
    "                first_name TEXT,\n",
    "                last_name TEXT,\n",
    "                dob INTEGER NOT NULL,\n",
    "                mob INTEGER NOT NULL,\n",
    "                yob INTEGER NOT NULL,\n",
    "                gender TEXT,\n",
    "                home_address TEXT,\n",
    "                phone_no INTEGER NOT NULL,\n",
    "                email_id VARCHAR(255) NOT NULL,\n",
    "                blood_grp VARCHAR(255) NOT NULL,\n",
    "                patient_history TEXT,\n",
    "                doctor TEXT\n",
    "            )\n",
    "        \"\"\")\n",
    "    conn = None\n",
    "    try:\n",
    "        # read the connection parameters\n",
    "        params = config()\n",
    "        # connect to the PostgreSQL server\n",
    "        conn = psycopg2.connect(**params)\n",
    "        cur = conn.cursor()\n",
    "        # create table one by one\n",
    "        cur.execute(commands)\n",
    "        # close communication with the PostgreSQL database server\n",
    "        cur.close()\n",
    "        # commit the changes\n",
    "        conn.commit()\n",
    "    except (Exception, psycopg2.DatabaseError) as error:\n",
    "        print(error)\n",
    "    finally:\n",
    "        if conn is not None:\n",
    "            conn.close()\n",
    "            print('Connection Closed')\n",
    " \n",
    " \n",
    "if __name__ == '__main__':\n",
    "    create_tables()"
   ]
  },
  {
   "cell_type": "code",
   "execution_count": null,
   "metadata": {},
   "outputs": [],
   "source": []
  }
 ],
 "metadata": {
  "kernelspec": {
   "display_name": "Python 3",
   "language": "python",
   "name": "python3"
  },
  "language_info": {
   "codemirror_mode": {
    "name": "ipython",
    "version": 3
   },
   "file_extension": ".py",
   "mimetype": "text/x-python",
   "name": "python",
   "nbconvert_exporter": "python",
   "pygments_lexer": "ipython3",
   "version": "3.7.4"
  }
 },
 "nbformat": 4,
 "nbformat_minor": 2
}
