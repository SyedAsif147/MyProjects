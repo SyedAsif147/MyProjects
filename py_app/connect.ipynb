{
 "cells": [
  {
   "cell_type": "code",
   "execution_count": 5,
   "metadata": {},
   "outputs": [],
   "source": [
    "import psycopg2\n",
    "from ipynb.fs.full.config1 import config"
   ]
  },
  {
   "cell_type": "code",
   "execution_count": 6,
   "metadata": {},
   "outputs": [
    {
     "name": "stdout",
     "output_type": "stream",
     "text": [
      "Connecting to Server..\n",
      "PostgreSQL version\n",
      "('PostgreSQL 12.2, compiled by Visual C++ build 1914, 64-bit',)\n",
      "Database connection closed\n"
     ]
    }
   ],
   "source": [
    "def connect():\n",
    "    # connecting to postgresql database\n",
    "    conn=None\n",
    "    try:\n",
    "        #read connection parameters\n",
    "        params=config()\n",
    "        #connect to postgresql database\n",
    "        print(\"Connecting to Server..\")\n",
    "        conn = psycopg2.connect(**params)\n",
    "        #create cursor\n",
    "        cur=conn.cursor()\n",
    "        #execute a statement\n",
    "        print(\"PostgreSQL version\")\n",
    "        cur.execute('SELECT version();')\n",
    "        #display the version\n",
    "        db_version=cur.fetchone()\n",
    "        print(db_version)\n",
    "        #close communication\n",
    "        cur.close()\n",
    "    except (Exception, psycopg2.DatabaseError) as error:\n",
    "        print(error)\n",
    "    finally:\n",
    "        if conn is not None:\n",
    "            conn.close()\n",
    "            print('Database connection closed')\n",
    "            \n",
    "if __name__=='__main__':\n",
    "    connect()"
   ]
  },
  {
   "cell_type": "code",
   "execution_count": null,
   "metadata": {},
   "outputs": [],
   "source": []
  }
 ],
 "metadata": {
  "kernelspec": {
   "display_name": "Python 3",
   "language": "python",
   "name": "python3"
  },
  "language_info": {
   "codemirror_mode": {
    "name": "ipython",
    "version": 3
   },
   "file_extension": ".py",
   "mimetype": "text/x-python",
   "name": "python",
   "nbconvert_exporter": "python",
   "pygments_lexer": "ipython3",
   "version": "3.7.4"
  }
 },
 "nbformat": 4,
 "nbformat_minor": 2
}
