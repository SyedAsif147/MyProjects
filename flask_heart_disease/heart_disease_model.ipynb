{
 "cells": [
  {
   "cell_type": "code",
   "execution_count": 4,
   "metadata": {},
   "outputs": [],
   "source": [
    "#importing libraries\n",
    "import numpy as np\n",
    "import pandas as pd\n",
    "import matplotlib.pyplot as plt\n",
    "from sklearn.metrics import confusion_matrix\n",
    "from sklearn.metrics import accuracy_score\n",
    "import pickle\n",
    "import requests\n",
    "import json"
   ]
  },
  {
   "cell_type": "code",
   "execution_count": 5,
   "metadata": {},
   "outputs": [],
   "source": [
    "#importing dataset\n",
    "dataset=pd.read_csv('D:/datasets/heart.csv')\n",
    "X = dataset.iloc[:,0:13].values\n",
    "y = dataset.iloc[:,-1].values"
   ]
  },
  {
   "cell_type": "code",
   "execution_count": 6,
   "metadata": {},
   "outputs": [],
   "source": [
    "#Splitting dataset into training set and testing set\n",
    "from sklearn.model_selection import train_test_split\n",
    "X_train, X_test, y_train, y_test = train_test_split(X, y, test_size = 0.2,random_state=0)\n",
    "\n",
    "# Feature Scaling\n",
    "from sklearn.preprocessing import StandardScaler\n",
    "sc = StandardScaler()\n",
    "X_train = sc.fit_transform(X_train)\n",
    "X_test = sc.transform(X_test)"
   ]
  },
  {
   "cell_type": "code",
   "execution_count": 16,
   "metadata": {},
   "outputs": [
    {
     "name": "stderr",
     "output_type": "stream",
     "text": [
      "C:\\Users\\Syed\\Anaconda3\\lib\\site-packages\\sklearn\\discriminant_analysis.py:466: ChangedBehaviorWarning: n_components cannot be larger than min(n_features, n_classes - 1). Using min(n_features, n_classes - 1) = min(1, 2 - 1) = 1 components.\n",
      "  ChangedBehaviorWarning)\n",
      "C:\\Users\\Syed\\Anaconda3\\lib\\site-packages\\sklearn\\discriminant_analysis.py:472: FutureWarning: In version 0.23, setting n_components > min(n_features, n_classes - 1) will raise a ValueError. You should set n_components to None (default), or a value smaller or equal to min(n_features, n_classes - 1).\n",
      "  warnings.warn(future_msg, FutureWarning)\n",
      "C:\\Users\\Syed\\Anaconda3\\lib\\site-packages\\sklearn\\discriminant_analysis.py:466: ChangedBehaviorWarning: n_components cannot be larger than min(n_features, n_classes - 1). Using min(n_features, n_classes - 1) = min(1, 2 - 1) = 1 components.\n",
      "  ChangedBehaviorWarning)\n",
      "C:\\Users\\Syed\\Anaconda3\\lib\\site-packages\\sklearn\\discriminant_analysis.py:472: FutureWarning: In version 0.23, setting n_components > min(n_features, n_classes - 1) will raise a ValueError. You should set n_components to None (default), or a value smaller or equal to min(n_features, n_classes - 1).\n",
      "  warnings.warn(future_msg, FutureWarning)\n"
     ]
    },
    {
     "data": {
      "text/plain": [
       "array([[ 2.28011405],\n",
       "       [ 1.29304306],\n",
       "       [ 1.12713495],\n",
       "       [ 0.45231235],\n",
       "       [ 0.28104698],\n",
       "       [ 0.63916824],\n",
       "       [-0.81006589],\n",
       "       [ 0.48696886],\n",
       "       [ 0.04366996],\n",
       "       [-0.14953291],\n",
       "       [ 1.5049131 ],\n",
       "       [ 0.84960769],\n",
       "       [-1.81132694],\n",
       "       [-1.51403343],\n",
       "       [ 0.99669867],\n",
       "       [-0.71278735],\n",
       "       [ 0.18157756],\n",
       "       [ 0.43479033],\n",
       "       [-0.56806004],\n",
       "       [-2.62752948],\n",
       "       [-2.20255228],\n",
       "       [-1.21891673],\n",
       "       [-0.28413088],\n",
       "       [-1.55266416],\n",
       "       [-0.04791851],\n",
       "       [-1.8303197 ],\n",
       "       [ 0.30559855],\n",
       "       [ 0.47568052],\n",
       "       [-0.90596443],\n",
       "       [-1.7289081 ],\n",
       "       [ 0.48302242],\n",
       "       [ 0.30645275],\n",
       "       [-1.82322632],\n",
       "       [ 1.42009274],\n",
       "       [-1.85343048],\n",
       "       [-1.60408934],\n",
       "       [-2.085508  ],\n",
       "       [ 1.57858834],\n",
       "       [-1.66249246],\n",
       "       [-1.5990848 ],\n",
       "       [ 2.25028304],\n",
       "       [-2.50199764],\n",
       "       [ 0.15023526],\n",
       "       [-0.95577282],\n",
       "       [ 1.01709404],\n",
       "       [ 1.30460123],\n",
       "       [ 0.865814  ],\n",
       "       [ 0.07336487],\n",
       "       [ 1.29031732],\n",
       "       [-1.46088455],\n",
       "       [-0.93707258],\n",
       "       [-0.42124979],\n",
       "       [-1.79313607],\n",
       "       [-1.70585279],\n",
       "       [-1.90227301],\n",
       "       [ 0.3314478 ],\n",
       "       [ 0.76222356],\n",
       "       [ 1.45428927],\n",
       "       [ 0.1146679 ],\n",
       "       [ 2.23520977],\n",
       "       [ 1.21875601],\n",
       "       [ 0.5515356 ],\n",
       "       [ 0.1076168 ],\n",
       "       [ 0.21096127],\n",
       "       [ 0.88825131],\n",
       "       [ 0.528814  ],\n",
       "       [-0.26450152],\n",
       "       [ 2.29757756],\n",
       "       [ 1.25439979],\n",
       "       [ 1.4812344 ],\n",
       "       [-1.3231264 ],\n",
       "       [ 0.31767136],\n",
       "       [ 0.55443514],\n",
       "       [ 0.56233788],\n",
       "       [-0.70035151],\n",
       "       [ 0.5511017 ],\n",
       "       [ 1.72626226],\n",
       "       [-2.74683974],\n",
       "       [-1.13752875],\n",
       "       [ 0.32224523],\n",
       "       [ 0.09730815],\n",
       "       [ 0.96549854],\n",
       "       [ 0.34566976],\n",
       "       [ 0.43688937],\n",
       "       [ 0.4534891 ],\n",
       "       [ 0.4217733 ],\n",
       "       [ 0.9983601 ],\n",
       "       [ 1.42630476],\n",
       "       [ 2.24298657],\n",
       "       [ 0.6609178 ],\n",
       "       [ 1.74456201],\n",
       "       [ 0.28504522],\n",
       "       [-2.08966837],\n",
       "       [-0.31461751],\n",
       "       [ 1.02563147],\n",
       "       [-1.32653339],\n",
       "       [-0.89827301],\n",
       "       [-2.60832902],\n",
       "       [ 1.72987481],\n",
       "       [ 0.04576163],\n",
       "       [ 1.66682606],\n",
       "       [-0.55609647],\n",
       "       [ 1.46918647],\n",
       "       [-2.85988931],\n",
       "       [ 0.1004025 ],\n",
       "       [ 0.13222944],\n",
       "       [-2.07853042],\n",
       "       [ 2.12144473],\n",
       "       [ 0.950235  ],\n",
       "       [ 1.98441783],\n",
       "       [ 0.84689902],\n",
       "       [ 1.92593781],\n",
       "       [-1.12185427],\n",
       "       [-1.3535928 ],\n",
       "       [ 2.38876255],\n",
       "       [-2.08196721],\n",
       "       [ 2.4830594 ],\n",
       "       [-2.97091596],\n",
       "       [ 1.42322396],\n",
       "       [ 1.67194954],\n",
       "       [-0.41846378],\n",
       "       [-2.31698982],\n",
       "       [ 0.90367311],\n",
       "       [ 0.83044587],\n",
       "       [-0.47654722],\n",
       "       [-0.2203279 ],\n",
       "       [ 0.57259389],\n",
       "       [ 1.36547513],\n",
       "       [ 1.29039172],\n",
       "       [-0.2771569 ],\n",
       "       [ 0.33612479],\n",
       "       [-2.80410361],\n",
       "       [ 0.40146399],\n",
       "       [-1.16964876],\n",
       "       [ 1.43308311],\n",
       "       [ 2.06404652],\n",
       "       [-1.58555382],\n",
       "       [ 0.37146454],\n",
       "       [ 0.81509529],\n",
       "       [ 1.73380546],\n",
       "       [-0.68787857],\n",
       "       [-1.18731032],\n",
       "       [ 0.76106979],\n",
       "       [-0.56828515],\n",
       "       [-2.78145941],\n",
       "       [ 1.50882013],\n",
       "       [ 1.32082988],\n",
       "       [ 2.46621281],\n",
       "       [ 0.84942502],\n",
       "       [-2.29780366],\n",
       "       [ 0.3779457 ],\n",
       "       [-0.97523409],\n",
       "       [-0.28507634],\n",
       "       [-3.71368459],\n",
       "       [ 1.58092089],\n",
       "       [ 0.31731531],\n",
       "       [ 1.10655281],\n",
       "       [-1.91782644],\n",
       "       [ 0.68649211],\n",
       "       [-2.57853819],\n",
       "       [ 1.68560428],\n",
       "       [-2.13452701],\n",
       "       [-1.78051948],\n",
       "       [ 0.04790333],\n",
       "       [ 1.08152151],\n",
       "       [ 1.18413862],\n",
       "       [-0.99633475],\n",
       "       [ 0.8370308 ],\n",
       "       [-0.14161601],\n",
       "       [ 0.59112257],\n",
       "       [ 2.00403825],\n",
       "       [ 0.0602494 ],\n",
       "       [-1.7199815 ],\n",
       "       [ 2.45025629],\n",
       "       [ 0.06130445],\n",
       "       [-0.3756973 ],\n",
       "       [ 1.82951995],\n",
       "       [-2.64222213],\n",
       "       [ 1.92610445],\n",
       "       [ 0.4906309 ],\n",
       "       [ 1.07842679],\n",
       "       [ 1.00850959],\n",
       "       [ 0.85677067],\n",
       "       [-1.84266329],\n",
       "       [-2.64902789],\n",
       "       [ 1.42657862],\n",
       "       [ 0.5697913 ],\n",
       "       [-0.75155463],\n",
       "       [-0.50228115],\n",
       "       [-1.56284223],\n",
       "       [-0.9558122 ],\n",
       "       [ 1.20841553],\n",
       "       [ 0.98511257],\n",
       "       [ 0.08933439],\n",
       "       [ 1.04715748],\n",
       "       [-0.20283339],\n",
       "       [ 1.64680206],\n",
       "       [ 2.49385259],\n",
       "       [-1.38674835],\n",
       "       [ 2.18980138],\n",
       "       [ 0.92437571],\n",
       "       [-0.14840932],\n",
       "       [-0.28413088],\n",
       "       [ 0.65766853],\n",
       "       [-1.52993407],\n",
       "       [-1.53525017],\n",
       "       [-0.0879915 ],\n",
       "       [ 1.27382045],\n",
       "       [ 1.66515585],\n",
       "       [-0.01545202],\n",
       "       [-0.85172767],\n",
       "       [-0.21493423],\n",
       "       [ 2.40880609],\n",
       "       [ 0.3847701 ],\n",
       "       [ 1.06914131],\n",
       "       [-0.16096464],\n",
       "       [-1.16773648],\n",
       "       [-2.46394829],\n",
       "       [ 2.54796298],\n",
       "       [-0.89257277],\n",
       "       [ 1.52379418],\n",
       "       [ 0.44449905],\n",
       "       [-3.04716146],\n",
       "       [-0.93236408],\n",
       "       [-2.54474358],\n",
       "       [-2.12235117],\n",
       "       [ 1.45476595],\n",
       "       [-2.74571142],\n",
       "       [ 1.86951267],\n",
       "       [ 0.57513142],\n",
       "       [ 0.62099182],\n",
       "       [-1.29494241],\n",
       "       [-1.19130784],\n",
       "       [ 0.24707958],\n",
       "       [-2.24803583],\n",
       "       [ 1.05604935],\n",
       "       [-2.33202239],\n",
       "       [-2.94876664],\n",
       "       [-1.2321581 ],\n",
       "       [ 0.87139455],\n",
       "       [ 1.18903099],\n",
       "       [ 0.26751144]])"
      ]
     },
     "execution_count": 16,
     "metadata": {},
     "output_type": "execute_result"
    }
   ],
   "source": [
    "# Dimensionality Reduction\n",
    "# Applying LDA\n",
    "from sklearn.discriminant_analysis import LinearDiscriminantAnalysis as LDA\n",
    "lda=LDA(n_components = 2)\n",
    "X_train = lda.fit_transform(X_train,y_train)\n",
    "X_test = lda.fit_transform(X_test,y_test)\n",
    "X_train"
   ]
  },
  {
   "cell_type": "code",
   "execution_count": 8,
   "metadata": {},
   "outputs": [
    {
     "data": {
      "text/plain": [
       "array([0, 0, 0, 0, 0, 0, 0, 0, 0, 0, 1, 1, 0, 1, 1, 1, 1, 1, 0, 1, 1, 0,\n",
       "       0, 0, 1, 0, 0, 0, 1, 1, 1, 0, 1, 1, 1, 0, 0, 1, 0, 0, 1, 1, 1, 0,\n",
       "       1, 1, 1, 0, 0, 1, 1, 1, 1, 1, 1, 0, 1, 1, 1, 1, 0], dtype=int64)"
      ]
     },
     "execution_count": 8,
     "metadata": {},
     "output_type": "execute_result"
    }
   ],
   "source": [
    "#Gaussian Naive Bayes\n",
    "from sklearn.naive_bayes import GaussianNB\n",
    "gnb=GaussianNB()\n",
    "gnb.fit(X_train,y_train)\n",
    "y_pred=gnb.predict(X_test)\n",
    "accuracy_score(y_test,y_pred)\n",
    "cm4=confusion_matrix(y_test,y_pred)\n",
    "y_pred"
   ]
  },
  {
   "cell_type": "code",
   "execution_count": 9,
   "metadata": {},
   "outputs": [],
   "source": [
    "# dumping byte stream of trained object to model_heart.pkl\n",
    "pickle.dump(gnb, open('model_heart.pkl','wb'))"
   ]
  },
  {
   "cell_type": "code",
   "execution_count": 10,
   "metadata": {},
   "outputs": [
    {
     "data": {
      "text/plain": [
       "array([0, 0, 0, 0, 0, 0, 0, 0, 0, 0, 1, 1, 0, 1, 1, 1, 1, 1, 0, 1, 1, 0,\n",
       "       0, 0, 1, 0, 0, 0, 1, 1, 1, 0, 1, 1, 1, 0, 0, 1, 0, 0, 1, 1, 1, 0,\n",
       "       1, 1, 1, 0, 0, 1, 1, 1, 1, 1, 1, 0, 1, 1, 1, 1, 0], dtype=int64)"
      ]
     },
     "execution_count": 10,
     "metadata": {},
     "output_type": "execute_result"
    }
   ],
   "source": [
    "# loading model into code\n",
    "model = pickle.load(open('model_heart.pkl', 'rb'))\n",
    "pred=model.predict(X_test)\n",
    "pred"
   ]
  },
  {
   "cell_type": "code",
   "execution_count": 11,
   "metadata": {},
   "outputs": [
    {
     "data": {
      "text/plain": [
       "0.9393939393939394"
      ]
     },
     "execution_count": 11,
     "metadata": {},
     "output_type": "execute_result"
    }
   ],
   "source": [
    "precision=cm4[1][1]/(cm4[1][1]+cm4[0][1])\n",
    "precision"
   ]
  },
  {
   "cell_type": "code",
   "execution_count": 12,
   "metadata": {},
   "outputs": [
    {
     "data": {
      "text/plain": [
       "0.9117647058823529"
      ]
     },
     "execution_count": 12,
     "metadata": {},
     "output_type": "execute_result"
    }
   ],
   "source": [
    "recall=cm4[1][1]/(cm4[1][1]+cm4[1][0])\n",
    "recall"
   ]
  },
  {
   "cell_type": "code",
   "execution_count": 13,
   "metadata": {},
   "outputs": [
    {
     "data": {
      "text/plain": [
       "0.9253731343283583"
      ]
     },
     "execution_count": 13,
     "metadata": {},
     "output_type": "execute_result"
    }
   ],
   "source": [
    "f1=2*precision*recall/(precision+recall)\n",
    "f1"
   ]
  }
 ],
 "metadata": {
  "kernelspec": {
   "display_name": "Python 3",
   "language": "python",
   "name": "python3"
  },
  "language_info": {
   "codemirror_mode": {
    "name": "ipython",
    "version": 3
   },
   "file_extension": ".py",
   "mimetype": "text/x-python",
   "name": "python",
   "nbconvert_exporter": "python",
   "pygments_lexer": "ipython3",
   "version": "3.7.4"
  }
 },
 "nbformat": 4,
 "nbformat_minor": 2
}
